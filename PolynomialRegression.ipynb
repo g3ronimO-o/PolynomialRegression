{
 "cells": [
  {
   "cell_type": "code",
   "execution_count": 1,
   "metadata": {},
   "outputs": [],
   "source": [
    "import numpy as np\n",
    "import pandas as pd\n",
    "import math\n",
    "from collections import OrderedDict\n",
    "import matplotlib.pyplot as plt\n",
    "from sklearn.model_selection import train_test_split"
   ]
  },
  {
   "cell_type": "code",
   "execution_count": 854,
   "metadata": {},
   "outputs": [
    {
     "data": {
      "text/html": [
       "<div>\n",
       "<style scoped>\n",
       "    .dataframe tbody tr th:only-of-type {\n",
       "        vertical-align: middle;\n",
       "    }\n",
       "\n",
       "    .dataframe tbody tr th {\n",
       "        vertical-align: top;\n",
       "    }\n",
       "\n",
       "    .dataframe thead th {\n",
       "        text-align: right;\n",
       "    }\n",
       "</style>\n",
       "<table border=\"1\" class=\"dataframe\">\n",
       "  <thead>\n",
       "    <tr style=\"text-align: right;\">\n",
       "      <th></th>\n",
       "      <th>x</th>\n",
       "      <th>y</th>\n",
       "    </tr>\n",
       "  </thead>\n",
       "  <tbody>\n",
       "    <tr>\n",
       "      <th>0</th>\n",
       "      <td>-4.98</td>\n",
       "      <td>896260.03</td>\n",
       "    </tr>\n",
       "    <tr>\n",
       "      <th>1</th>\n",
       "      <td>-4.94</td>\n",
       "      <td>836639.80</td>\n",
       "    </tr>\n",
       "    <tr>\n",
       "      <th>2</th>\n",
       "      <td>-4.89</td>\n",
       "      <td>767007.86</td>\n",
       "    </tr>\n",
       "    <tr>\n",
       "      <th>3</th>\n",
       "      <td>-4.88</td>\n",
       "      <td>753705.40</td>\n",
       "    </tr>\n",
       "    <tr>\n",
       "      <th>4</th>\n",
       "      <td>-4.78</td>\n",
       "      <td>631368.25</td>\n",
       "    </tr>\n",
       "    <tr>\n",
       "      <th>...</th>\n",
       "      <td>...</td>\n",
       "      <td>...</td>\n",
       "    </tr>\n",
       "    <tr>\n",
       "      <th>95</th>\n",
       "      <td>4.53</td>\n",
       "      <td>1030635.93</td>\n",
       "    </tr>\n",
       "    <tr>\n",
       "      <th>96</th>\n",
       "      <td>4.56</td>\n",
       "      <td>1083709.22</td>\n",
       "    </tr>\n",
       "    <tr>\n",
       "      <th>97</th>\n",
       "      <td>4.64</td>\n",
       "      <td>1237097.49</td>\n",
       "    </tr>\n",
       "    <tr>\n",
       "      <th>98</th>\n",
       "      <td>4.70</td>\n",
       "      <td>1364282.15</td>\n",
       "    </tr>\n",
       "    <tr>\n",
       "      <th>99</th>\n",
       "      <td>4.86</td>\n",
       "      <td>1760969.69</td>\n",
       "    </tr>\n",
       "  </tbody>\n",
       "</table>\n",
       "<p>100 rows × 2 columns</p>\n",
       "</div>"
      ],
      "text/plain": [
       "       x           y\n",
       "0  -4.98   896260.03\n",
       "1  -4.94   836639.80\n",
       "2  -4.89   767007.86\n",
       "3  -4.88   753705.40\n",
       "4  -4.78   631368.25\n",
       "..   ...         ...\n",
       "95  4.53  1030635.93\n",
       "96  4.56  1083709.22\n",
       "97  4.64  1237097.49\n",
       "98  4.70  1364282.15\n",
       "99  4.86  1760969.69\n",
       "\n",
       "[100 rows x 2 columns]"
      ]
     },
     "execution_count": 854,
     "metadata": {},
     "output_type": "execute_result"
    }
   ],
   "source": [
    "data = pd.read_csv('group04.txt')\n",
    "data"
   ]
  },
  {
   "cell_type": "code",
   "execution_count": 855,
   "metadata": {},
   "outputs": [
    {
     "name": "stdout",
     "output_type": "stream",
     "text": [
      "100 (100,)\n"
     ]
    }
   ],
   "source": [
    "X = data.iloc[:, 0].values\n",
    "y = data.iloc[:, 1].values\n",
    "print(len(X), y.shape)"
   ]
  },
  {
   "cell_type": "code",
   "execution_count": 856,
   "metadata": {},
   "outputs": [
    {
     "data": {
      "text/plain": [
       "array([-0.996, -0.988, -0.978, -0.976, -0.956, -0.952, -0.942, -0.924,\n",
       "       -0.904, -0.878, -0.876, -0.874, -0.862, -0.768, -0.75 , -0.744,\n",
       "       -0.716, -0.71 , -0.68 , -0.672, -0.664, -0.662, -0.644, -0.598,\n",
       "       -0.568, -0.558, -0.522, -0.494, -0.464, -0.462, -0.442, -0.44 ,\n",
       "       -0.422, -0.418, -0.392, -0.382, -0.37 , -0.364, -0.344, -0.336,\n",
       "       -0.32 , -0.314, -0.308, -0.282, -0.278, -0.266, -0.256, -0.218,\n",
       "       -0.18 , -0.164, -0.122, -0.058, -0.038, -0.01 , -0.   ,  0.048,\n",
       "        0.054,  0.07 ,  0.108,  0.11 ,  0.126,  0.146,  0.15 ,  0.206,\n",
       "        0.21 ,  0.228,  0.242,  0.252,  0.27 ,  0.31 ,  0.364,  0.408,\n",
       "        0.42 ,  0.458,  0.476,  0.498,  0.51 ,  0.586,  0.588,  0.63 ,\n",
       "        0.652,  0.654,  0.66 ,  0.668,  0.694,  0.698,  0.718,  0.746,\n",
       "        0.762,  0.77 ,  0.776,  0.78 ,  0.802,  0.83 ,  0.876,  0.906,\n",
       "        0.912,  0.928,  0.94 ,  0.972])"
      ]
     },
     "execution_count": 856,
     "metadata": {},
     "output_type": "execute_result"
    }
   ],
   "source": [
    "X = X/5\n",
    "X"
   ]
  },
  {
   "cell_type": "code",
   "execution_count": 857,
   "metadata": {},
   "outputs": [
    {
     "data": {
      "text/plain": [
       "array([8.96260030e+05, 8.36639800e+05, 7.67007860e+05, 7.53705400e+05,\n",
       "       6.31368250e+05, 6.09101210e+05, 5.56409190e+05, 4.71524510e+05,\n",
       "       3.90676640e+05, 3.03824770e+05, 2.97903610e+05, 2.92084150e+05,\n",
       "       2.59208910e+05, 9.49696300e+04, 7.71442500e+04, 7.18906000e+04,\n",
       "       5.12770200e+04, 4.76034600e+04, 3.24646600e+04, 2.92174500e+04,\n",
       "       2.62586800e+04, 2.55616400e+04, 1.99733600e+04, 1.02331200e+04,\n",
       "       6.39803000e+03, 5.43467000e+03, 2.92922000e+03, 1.74532000e+03,\n",
       "       9.60020000e+02, 9.20220000e+02, 5.99330000e+02, 5.73410000e+02,\n",
       "       3.80850000e+02, 3.46160000e+02, 1.81600000e+02, 1.41150000e+02,\n",
       "       1.00870000e+02, 8.55000000e+01, 4.72400000e+01, 3.75300000e+01,\n",
       "       2.21300000e+01, 1.85800000e+01, 1.48400000e+01, 6.88000000e+00,\n",
       "       5.84000000e+00, 3.51000000e+00, 3.03000000e+00, 2.44000000e+00,\n",
       "       8.00000000e-01, 4.00000000e-02, 2.70000000e-01, 2.70000000e-01,\n",
       "       1.50000000e-01, 1.10000000e+00, 1.86000000e+00, 3.66000000e+00,\n",
       "       3.80000000e+00, 5.43000000e+00, 8.60000000e+00, 8.73000000e+00,\n",
       "       1.12600000e+01, 1.45800000e+01, 1.55900000e+01, 4.26100000e+01,\n",
       "       4.71900000e+01, 7.02200000e+01, 9.42700000e+01, 1.18020000e+02,\n",
       "       1.78150000e+02, 4.23950000e+02, 1.25187000e+03, 2.79174000e+03,\n",
       "       3.43212000e+03, 6.39609000e+03, 8.45947000e+03, 1.17567600e+04,\n",
       "       1.39946900e+04, 3.89529800e+04, 3.99497600e+04, 6.67204000e+04,\n",
       "       8.61967200e+04, 8.81917800e+04, 9.44206300e+04, 1.03323190e+05,\n",
       "       1.37538280e+05, 1.43597250e+05, 1.77529940e+05, 2.36738530e+05,\n",
       "       2.77792740e+05, 3.00561790e+05, 3.18693690e+05, 3.31305570e+05,\n",
       "       4.08789290e+05, 5.30012370e+05, 7.97918070e+05, 1.03063593e+06,\n",
       "       1.08370922e+06, 1.23709749e+06, 1.36428215e+06, 1.76096969e+06])"
      ]
     },
     "execution_count": 857,
     "metadata": {},
     "output_type": "execute_result"
    }
   ],
   "source": [
    "y"
   ]
  },
  {
   "cell_type": "code",
   "execution_count": 858,
   "metadata": {},
   "outputs": [
    {
     "data": {
      "image/png": "[encoded data removed]",
      "text/plain": [
       "<Figure size 432x288 with 1 Axes>"
      ]
     },
     "metadata": {
      "needs_background": "light"
     },
     "output_type": "display_data"
    },
    {
     "data": {
      "image/png": "[encoded data removed]",
      "text/plain": [
       "<Figure size 432x288 with 1 Axes>"
      ]
     },
     "metadata": {
      "needs_background": "light"
     },
     "output_type": "display_data"
    },
    {
     "data": {
      "image/png": "[encoded data removed]",
      "text/plain": [
       "<Figure size 432x288 with 1 Axes>"
      ]
     },
     "metadata": {
      "needs_background": "light"
     },
     "output_type": "display_data"
    }
   ],
   "source": [
    "plt.scatter(X, y, color = 'blue')\n",
    "plt.show()\n"
   ]
  },
  {
   "cell_type": "code",
   "execution_count": 859,
   "metadata": {},
   "outputs": [],
   "source": [
    "def L(n,x):\n",
    "    if n==0:\n",
    "        return 1\n",
    "    elif n==1:\n",
    "        return x\n",
    "    else:\n",
    "        return ((2*n-1)*x*L(n-1,x) - (n-1)*L(n-2,x))/n"
   ]
  },
  {
   "cell_type": "code",
   "execution_count": 860,
   "metadata": {},
   "outputs": [],
   "source": [
    "def Leg_power(X,n):\n",
    "    r= len(X)\n",
    "    A=np.ones(r)\n",
    "    for i in range(r):\n",
    "        A[i]=L(n,X[i])\n",
    "    return A"
   ]
  },
  {
   "cell_type": "code",
   "execution_count": 861,
   "metadata": {},
   "outputs": [],
   "source": [
    "def normalize(value):\n",
    "    return (value - np.mean(value))/(np.max(value) - np.min(value))"
   ]
  },
  {
   "cell_type": "code",
   "execution_count": 862,
   "metadata": {},
   "outputs": [],
   "source": [
    "def transform(x, degree):\n",
    "    m = len(x)\n",
    "    X_trans = np.ones((m,1))\n",
    "    j = 0\n",
    "    for j in range(degree + 1):\n",
    "        if j != 0:\n",
    "            x_pow = Leg_power(x,j)\n",
    "            X_trans = np.append(X_trans, x_pow.reshape( -1, 1 ), axis = 1)\n",
    "    return X_trans"
   ]
  },
  {
   "cell_type": "code",
   "execution_count": null,
   "metadata": {},
   "outputs": [],
   "source": []
  },
  {
   "cell_type": "code",
   "execution_count": 863,
   "metadata": {
    "scrolled": true
   },
   "outputs": [
    {
     "data": {
      "text/plain": [
       "array([[ 1.        , -0.996     ,  0.988024  , -0.97611984,  0.96035888,\n",
       "        -0.94083553,  0.91766661],\n",
       "       [ 1.        , -0.988     ,  0.964216  , -0.92907568,  0.88320985,\n",
       "        -0.82743985,  0.76276118],\n",
       "       [ 1.        , -0.978     ,  0.934726  , -0.87160338,  0.79070468,\n",
       "        -0.69467382,  0.58662959],\n",
       "       [ 1.        , -0.976     ,  0.928864  , -0.86028544,  0.77271953,\n",
       "        -0.66928532,  0.55364159],\n",
       "       [ 1.        , -0.956     ,  0.870904  , -0.75030704,  0.60208568,\n",
       "        -0.4358234 ,  0.26211509],\n",
       "       [ 1.        , -0.952     ,  0.859456  , -0.72900352,  0.56992786,\n",
       "        -0.39342557,  0.21171888],\n",
       "       [ 1.        , -0.942     ,  0.831046  , -0.67674222,  0.49232505,\n",
       "        -0.29339258,  0.09641811],\n",
       "       [ 1.        , -0.924     ,  0.780664  , -0.58622256,  0.36242388,\n",
       "        -0.13380535, -0.07535364],\n",
       "       [ 1.        , -0.904     ,  0.725824  , -0.49090816,  0.23224871,\n",
       "         0.01481143, -0.21808807],\n",
       "       [ 1.        , -0.878     ,  0.656326  , -0.37509038,  0.08408187,\n",
       "         0.16718932, -0.3391873 ],\n",
       "       [ 1.        , -0.876     ,  0.651064  , -0.36655344,  0.07362842,\n",
       "         0.17714545, -0.34585262],\n",
       "       [ 1.        , -0.874     ,  0.645814  , -0.35806906,  0.06330613,\n",
       "         0.18686205, -0.3521704 ],\n",
       "       [ 1.        , -0.862     ,  0.614566  , -0.30825982,  0.00408544,\n",
       "         0.24026889, -0.38310947],\n",
       "       [ 1.        , -0.768     ,  0.384736  ,  0.01953792, -0.31481096,\n",
       "         0.41956434, -0.32840412],\n",
       "       [ 1.        , -0.75      ,  0.34375   ,  0.0703125 , -0.35009766,\n",
       "         0.41638184, -0.28077698],\n",
       "       [ 1.        , -0.744     ,  0.330304  ,  0.08642304, -0.3602508 ,\n",
       "         0.41330944, -0.26354507],\n",
       "       [ 1.        , -0.716     ,  0.268984  ,  0.15634576, -0.39763924,\n",
       "         0.38740084, -0.17716214],\n",
       "       [ 1.        , -0.71      ,  0.25615   ,  0.1702225 , -0.40361396,\n",
       "         0.37964064, -0.1578206 ],\n",
       "       [ 1.        , -0.68      ,  0.1936    ,  0.23392   , -0.4235648 ,\n",
       "         0.33130732, -0.06005912],\n",
       "       [ 1.        , -0.672     ,  0.177376  ,  0.24933888, -0.42625452,\n",
       "         0.31612637, -0.03425558],\n",
       "       [ 1.        , -0.664     ,  0.161344  ,  0.26411264, -0.42790689,\n",
       "         0.3001442 , -0.00878647],\n",
       "       [ 1.        , -0.662     ,  0.157366  ,  0.26770618, -0.42816211,\n",
       "         0.29603303, -0.00248366],\n",
       "       [ 1.        , -0.644     ,  0.122104  ,  0.29827504, -0.42773397,\n",
       "         0.25720919,  0.05276666],\n",
       "       [ 1.        , -0.598     ,  0.036406  ,  0.36238202, -0.40653728,\n",
       "         0.14769112,  0.17686238],\n",
       "       [ 1.        , -0.568     , -0.016064  ,  0.39387392, -0.37946268,\n",
       "         0.0728635 ,  0.2403437 ],\n",
       "       [ 1.        , -0.558     , -0.032954  ,  0.40264722, -0.36846951,\n",
       "         0.047973  ,  0.25798155],\n",
       "       [ 1.        , -0.522     , -0.091274  ,  0.42740838, -0.32198206,\n",
       "        -0.03939236,  0.30601687],\n",
       "       [ 1.        , -0.494     , -0.133946  ,  0.43961554, -0.27958813,\n",
       "        -0.10308266,  0.32634864],\n",
       "       [ 1.        , -0.464     , -0.177056  ,  0.44625664, -0.22956839,\n",
       "        -0.16526979,  0.3318965 ],\n",
       "       [ 1.        , -0.462     , -0.179834  ,  0.44647218, -0.22609726,\n",
       "        -0.16915526,  0.33168889],\n",
       "       [ 1.        , -0.442     , -0.206954  ,  0.44712278, -0.19063397,\n",
       "        -0.20602984,  0.32581449],\n",
       "       [ 1.        , -0.44      , -0.2096    ,  0.44704   , -0.1870208 ,\n",
       "        -0.20951153,  0.32485663],\n",
       "       [ 1.        , -0.422     , -0.232874  ,  0.44512138, -0.15406664,\n",
       "        -0.23906808,  0.31334787],\n",
       "       [ 1.        , -0.418     , -0.237914  ,  0.44441342, -0.14665292,\n",
       "        -0.24518908,  0.31010733],\n",
       "       [ 1.        , -0.392     , -0.269504  ,  0.43740928, -0.09793477,\n",
       "        -0.28082465,  0.28343162],\n",
       "       [ 1.        , -0.382     , -0.281114  ,  0.43364258, -0.07905456,\n",
       "        -0.29255615,  0.27076562],\n",
       "       [ 1.        , -0.37      , -0.29465   ,  0.4283675 , -0.05638046,\n",
       "        -0.30514462,  0.25397348],\n",
       "       [ 1.        , -0.364     , -0.301256  ,  0.42542864, -0.04505604,\n",
       "        -0.31082219,  0.24496871],\n",
       "       [ 1.        , -0.344     , -0.322496  ,  0.41423104, -0.00749509,\n",
       "        -0.32674387,  0.21231238],\n",
       "       [ 1.        , -0.336     , -0.330656  ,  0.40916736,  0.00740159,\n",
       "        -0.33181037,  0.19822719],\n",
       "       [ 1.        , -0.32      , -0.3464    ,  0.39808   ,  0.0368752 ,\n",
       "        -0.33970412,  0.16856375],\n",
       "       [ 1.        , -0.314     , -0.352106  ,  0.39360214,  0.04779512,\n",
       "        -0.34189552,  0.15698858],\n",
       "       [ 1.        , -0.308     , -0.357704  ,  0.38895472,  0.05863141,\n",
       "        -0.34366903,  0.14519894],\n",
       "       [ 1.        , -0.282     , -0.380714  ,  0.36693558,  0.10445279,\n",
       "        -0.3465687 ,  0.09213203],\n",
       "       [ 1.        , -0.278     , -0.384074  ,  0.36328762,  0.11131607,\n",
       "        -0.34633266,  0.08375082],\n",
       "       [ 1.        , -0.266     , -0.393866  ,  0.35194726,  0.13156805,\n",
       "        -0.34455259,  0.05838677],\n",
       "       [ 1.        , -0.256     , -0.401696  ,  0.34205696,  0.14803048,\n",
       "        -0.34185801,  0.03708663],\n",
       "       [ 1.        , -0.218     , -0.428714  ,  0.30109942,  0.20666607,\n",
       "        -0.3219753 , -0.04353893],\n",
       "       [ 1.        , -0.18      , -0.4514    ,  0.25542   ,  0.2580927 ,\n",
       "        -0.28795803, -0.1200511 ],\n",
       "       [ 1.        , -0.164     , -0.459656  ,  0.23497264,  0.27730485,\n",
       "        -0.2698385 , -0.14995593],\n",
       "       [ 1.        , -0.122     , -0.477674  ,  0.17846038,  0.32015421,\n",
       "        -0.21307417, -0.21913759],\n",
       "       [ 1.        , -0.058     , -0.494954  ,  0.08651222,  0.36243451,\n",
       "        -0.10704794, -0.29064599],\n",
       "       [ 1.        , -0.038     , -0.497834  ,  0.05686282,  0.36959412,\n",
       "        -0.07077049, -0.30306476],\n",
       "       [ 1.        , -0.01      , -0.49985   ,  0.0149975 ,  0.37462504,\n",
       "        -0.01874125, -0.31184395],\n",
       "       [ 1.        , -0.        , -0.5       ,  0.        ,  0.375     ,\n",
       "        -0.        , -0.3125    ],\n",
       "       [ 1.        ,  0.048     , -0.496544  , -0.07172352,  0.36638322,\n",
       "         0.08903433, -0.29748433],\n",
       "       [ 1.        ,  0.054     , -0.495626  , -0.08060634,  0.3641022 ,\n",
       "         0.09987581, -0.2935308 ],\n",
       "       [ 1.        ,  0.07      , -0.49265   , -0.1041425 ,  0.35673004,\n",
       "         0.12826199, -0.28081475],\n",
       "       [ 1.        ,  0.108     , -0.482504  , -0.15885072,  0.33185521,\n",
       "         0.19159323, -0.23861055],\n",
       "       [ 1.        ,  0.11      , -0.48185   , -0.1616725 ,  0.33026554,\n",
       "         0.19473058, -0.23595062],\n",
       "       [ 1.        ,  0.126     , -0.476186  , -0.18399906,  0.31656771,\n",
       "         0.2189968 , -0.21321816],\n",
       "       [ 1.        ,  0.146     , -0.468026  , -0.21121966,  0.29705288,\n",
       "         0.24704122, -0.18141936],\n",
       "       [ 1.        ,  0.15      , -0.46625   , -0.2165625 ,  0.29283984,\n",
       "         0.25231676, -0.17464609],\n",
       "       [ 1.        ,  0.206     , -0.436346  , -0.28714546,  0.22374356,\n",
       "         0.31268048, -0.06836397],\n",
       "       [ 1.        ,  0.21      , -0.43385   , -0.2918475 ,  0.21813354,\n",
       "         0.31593248, -0.06014395],\n",
       "       [ 1.        ,  0.228     , -0.422024  , -0.31236912,  0.19188272,\n",
       "         0.32864396, -0.02252909],\n",
       "       [ 1.        ,  0.242     , -0.412154  , -0.32756878,  0.17039012,\n",
       "         0.33627696,  0.00720311],\n",
       "       [ 1.        ,  0.252     , -0.404744  , -0.33799248,  0.15450332,\n",
       "         0.34047669,  0.02854747],\n",
       "       [ 1.        ,  0.27      , -0.39065   , -0.3557925 ,  0.12487554,\n",
       "         0.34532351,  0.06687219],\n",
       "       [ 1.        ,  0.31      , -0.35585   , -0.3905225 ,  0.05502904,\n",
       "         0.34312421,  0.14915139],\n",
       "       [ 1.        ,  0.364     , -0.301256  , -0.42542864, -0.04505604,\n",
       "         0.31082219,  0.24496871],\n",
       "       [ 1.        ,  0.408     , -0.250304  , -0.44220672, -0.1280076 ,\n",
       "         0.2597566 ,  0.30097093],\n",
       "       [ 1.        ,  0.42      , -0.2354    , -0.44478   , -0.1503633 ,\n",
       "         0.24214935,  0.31175775],\n",
       "       [ 1.        ,  0.458     , -0.185354  , -0.44682022, -0.21911091,\n",
       "         0.17682114,  0.33106324],\n",
       "       [ 1.        ,  0.476     , -0.160136  , -0.44437456, -0.25006201,\n",
       "         0.14124652,  0.33164614],\n",
       "       [ 1.        ,  0.498     , -0.127994  , -0.43823502, -0.28592632,\n",
       "         0.09428366,  0.32435292],\n",
       "       [ 1.        ,  0.51      , -0.10985   , -0.4333725 , -0.30439746,\n",
       "         0.06726114,  0.31655371],\n",
       "       [ 1.        ,  0.586     ,  0.015094  , -0.37592486, -0.39683144,\n",
       "        -0.11783792,  0.20409567],\n",
       "       [ 1.        ,  0.588     ,  0.018616  , -0.37375632, -0.39855725,\n",
       "        -0.12282794,  0.19972252],\n",
       "       [ 1.        ,  0.63      ,  0.09535   , -0.3198825 , -0.42418296,\n",
       "        -0.22511747,  0.09347512],\n",
       "       [ 1.        ,  0.652     ,  0.137656  , -0.28508048, -0.42851883,\n",
       "        -0.27484531,  0.02856726],\n",
       "       [ 1.        ,  0.654     ,  0.141574  , -0.28168434, -0.42856823,\n",
       "        -0.27916304,  0.0224237 ],\n",
       "       [ 1.        ,  0.66      ,  0.1534    , -0.27126   , -0.4283553 ,\n",
       "        -0.2918781 ,  0.00379025],\n",
       "       [ 1.        ,  0.668     ,  0.169336  , -0.25680592, -0.42720812,\n",
       "        -0.30823031, -0.02147262],\n",
       "       [ 1.        ,  0.694     ,  0.222454  , -0.20536154, -0.41625209,\n",
       "        -0.35569288, -0.10568316],\n",
       "       [ 1.        ,  0.698     ,  0.230806  , -0.19682902, -0.41353115,\n",
       "        -0.36209732, -0.11875458],\n",
       "       [ 1.        ,  0.718     ,  0.273286  , -0.15163442, -0.39549315,\n",
       "        -0.38982781, -0.18356572],\n",
       "       [ 1.        ,  0.746     ,  0.334774  , -0.08109766, -0.3569535 ,\n",
       "        -0.41443903, -0.26935319],\n",
       "       [ 1.        ,  0.762     ,  0.370966  , -0.03687318, -0.32739489,\n",
       "        -0.41955628, -0.31329105],\n",
       "       [ 1.        ,  0.77      ,  0.38935   , -0.0136675 , -0.31042946,\n",
       "        -0.41932123, -0.33325058],\n",
       "       [ 1.        ,  0.776     ,  0.403264  ,  0.00422144, -0.29671528,\n",
       "        -0.41782906, -0.34716874],\n",
       "       [ 1.        ,  0.78      ,  0.4126    ,  0.01638   , -0.2870913 ,\n",
       "        -0.41618019, -0.35589491],\n",
       "       [ 1.        ,  0.802     ,  0.464806  ,  0.08662402, -0.22702769,\n",
       "        -0.39703639, -0.39458609],\n",
       "       [ 1.        ,  0.83      ,  0.53335   ,  0.1844675 , -0.13207346,\n",
       "        -0.34489174, -0.41474906],\n",
       "       [ 1.        ,  0.876     ,  0.651064  ,  0.36655344,  0.07362842,\n",
       "        -0.17714545, -0.34585262],\n",
       "       [ 1.        ,  0.906     ,  0.731254  ,  0.50019354,  0.24461636,\n",
       "        -0.00123448, -0.20589743],\n",
       "       [ 1.        ,  0.912     ,  0.747616  ,  0.52837632,  0.28257661,\n",
       "         0.0411767 , -0.16663306],\n",
       "       [ 1.        ,  0.928     ,  0.791776  ,  0.60594688,  0.39022573,\n",
       "         0.16707556, -0.04093689],\n",
       "       [ 1.        ,  0.94      ,  0.8254    ,  0.66646   ,  0.4772767 ,\n",
       "         0.27438418,  0.07512481],\n",
       "       [ 1.        ,  0.972     ,  0.917176  ,  0.83782512,  0.73725853,\n",
       "         0.61964743,  0.48982961]])"
      ]
     },
     "execution_count": 863,
     "metadata": {},
     "output_type": "execute_result"
    }
   ],
   "source": [
    "X_trans = transform(X, 6)\n",
    "X_trans"
   ]
  },
  {
   "cell_type": "code",
   "execution_count": 864,
   "metadata": {},
   "outputs": [],
   "source": [
    "def hypothesis(x, w):\n",
    "    h = w[0]\n",
    "    for i in np.arange(1, len(w)):\n",
    "        h += w[i]*(L(i,x))\n",
    "    return h"
   ]
  },
  {
   "cell_type": "code",
   "execution_count": null,
   "metadata": {},
   "outputs": [],
   "source": []
  },
  {
   "cell_type": "code",
   "execution_count": 865,
   "metadata": {},
   "outputs": [],
   "source": [
    "def Error(x, y, w):\n",
    "    m = len(y)\n",
    "    h = hypothesis(x,w)\n",
    "    error = h-y\n",
    "    error2=np.absolute(error)\n",
    "    return (1/(2*m))*np.sum(error2)"
   ]
  },
  {
   "cell_type": "code",
   "execution_count": 866,
   "metadata": {},
   "outputs": [],
   "source": [
    "def ErrorRMS(x, y, w):\n",
    "    m = len(y)\n",
    "    h = hypothesis(x,w)\n",
    "    error = h-y\n",
    "    error2=error**2\n",
    "    return ((1/m)*np.sum(error2))**0.5"
   ]
  },
  {
   "cell_type": "code",
   "execution_count": 867,
   "metadata": {},
   "outputs": [],
   "source": [
    "def gradDescentRMS(x,y,degree,learningRate,tol,iterations):\n",
    "    X_trans = transform(x,degree)\n",
    "    m = len(x)\n",
    "    w = np.random.rand(degree+1)-np.random.rand(degree+1)\n",
    "    ein=ErrorRMS(x,y,w)\n",
    "    errors = []\n",
    "    for i in range(iterations):\n",
    "        errors.append(ein)\n",
    "        count=1\n",
    "        h = hypothesis(x,w)\n",
    "        e = (h-y)/ErrorRMS(x,y,w)\n",
    "        e1= np.sign(e)\n",
    "        w_temp = w -learningRate * (1/m)*np.dot(e,X_trans)\n",
    "        e_temp=ErrorRMS(x,y,w_temp)\n",
    "        temp_learn = learningRate\n",
    "        while count < 100 and e_temp >= ein:\n",
    "            temp_learn = temp_learn/2\n",
    "            w_temp = w-temp_learn * (1/m)*np.dot(e1,X_trans)\n",
    "            e_temp=ErrorRMS(x,y,w_temp)\n",
    "            count+=1\n",
    "        \n",
    "        if ein < tol or ein <= e_temp :\n",
    "            break\n",
    "        ein = e_temp\n",
    "        w=w_temp\n",
    "    print(\"for \"+str(degree)+\" iterations = \"+str(i))\n",
    "    return w,errors,np.var(e,ddof=1)"
   ]
  },
  {
   "cell_type": "code",
   "execution_count": 868,
   "metadata": {},
   "outputs": [],
   "source": [
    "def gradDescent(x,y,degree,learningRate,tol,iterations):\n",
    "    X_trans = transform(x,degree)\n",
    "    m = len(x)\n",
    "    w = 10**5*(np.random.rand(degree+1)-np.random.rand(degree+1))\n",
    "    ein=Error(x,y,w)\n",
    "    errors = []\n",
    "    for i in range(iterations):\n",
    "        n1=np.random.randint(len(x))\n",
    "        errors.append(ein)\n",
    "        count=1\n",
    "        h = hypothesis(x[n1],w)\n",
    "        e = h-y[n1]\n",
    "        e1= np.sign(e)\n",
    "        w_temp = w -learningRate * (1/m)*e1*X_trans[n1]\n",
    "        e_temp=Error(x,y,w_temp)\n",
    "        temp_learn = learningRate\n",
    "        while count < 30 and e_temp >= ein:\n",
    "            temp_learn = temp_learn/2\n",
    "            w_temp = w-temp_learn * (1/m)*e1*X_trans[n1]\n",
    "            e_temp=Error(x,y,w_temp)\n",
    "            count+=1\n",
    "        \n",
    "        if ein < tol:\n",
    "            break\n",
    "        if ein <= e_temp:\n",
    "            continue\n",
    "        ein = e_temp\n",
    "        w=w_temp\n",
    "    print(\"for \"+str(degree)+\" iterations = \"+str(i))\n",
    "    return w,errors,np.var(e)"
   ]
  },
  {
   "cell_type": "code",
   "execution_count": 869,
   "metadata": {},
   "outputs": [],
   "source": [
    "def RegGradDescent(x,y,degree,learningRate,tol,iterations,reg_const):\n",
    "    X_trans = transform(x,degree)\n",
    "    m = len(x)\n",
    "    w = 10**5+0*(np.random.rand(degree+1)-np.random.rand(degree+1))\n",
    "    ein=Error(x,y,w)\n",
    "    errors = []\n",
    "    for i in range(iterations):\n",
    "        count=1\n",
    "        errors.append(ein)\n",
    "        h = hypothesis(x,w)\n",
    "        w1 =reg_const * (np.sign(w[1:]))\n",
    "        w1=np.append([0],w1)\n",
    "        e = h-y\n",
    "        e1= np.sign(e)\n",
    "        w_temp = w -learningRate *  (1/m*(np.dot(e1,X_trans) + w1)) \n",
    "        e_temp=Error(x,y,w_temp)\n",
    "        temp_learn = learningRate\n",
    "        while count < 20 and e_temp >= ein:\n",
    "            temp_learn = temp_learn/2\n",
    "            w_temp = w-temp_learn * (1/m)*np.dot(e1,X_trans)\n",
    "            e_temp=Error(x,y,w_temp)\n",
    "            count+=1\n",
    "        \n",
    "        if ein < tol or ein <= e_temp :\n",
    "            break\n",
    "        ein = e_temp\n",
    "        w=w_temp\n",
    "    print(\"for \"+str(degree)+\" iterations = \"+str(i))\n",
    "    return w,errors,np.var(e)"
   ]
  },
  {
   "cell_type": "code",
   "execution_count": 870,
   "metadata": {},
   "outputs": [],
   "source": [
    "def NoiseVar(x,y,w):\n",
    "    h = hypothesis(x,w)\n",
    "    e = h-y\n",
    "    print(\"expected noise variance =\" +str(np.var(e,ddof=1)))"
   ]
  },
  {
   "cell_type": "code",
   "execution_count": 871,
   "metadata": {},
   "outputs": [],
   "source": [
    "def FindMinIndex(b):\n",
    "    index=0;\n",
    "    for i in range(len(b)):\n",
    "        if abs(b[i])<abs(b[index]):\n",
    "            index=i\n",
    "    return index"
   ]
  },
  {
   "cell_type": "code",
   "execution_count": 872,
   "metadata": {},
   "outputs": [],
   "source": [
    "def MatrixMethod(X,y,degree,reg_constant):\n",
    "    X1 = np.array(transform(X,degree))\n",
    "    b = np.identity(degree+1, dtype = float)\n",
    "    b[0][0]=0\n",
    "    return (np.linalg.inv( X1.transpose() @ X1 +reg_constant*b)) @ (X1.transpose() @ y)"
   ]
  },
  {
   "cell_type": "code",
   "execution_count": 873,
   "metadata": {},
   "outputs": [
    {
     "name": "stdout",
     "output_type": "stream",
     "text": [
      "for 0 iterations = 100\n",
      "for 0 iterations = 100\n",
      "for 0 iterations = 100\n",
      "for 0 iterations = 100\n",
      "for 0 iterations = 100\n",
      "for 1 iterations = 266\n",
      "for 1 iterations = 265\n",
      "for 1 iterations = 264\n",
      "for 1 iterations = 262\n",
      "for 1 iterations = 259\n",
      "for 2 iterations = 463\n",
      "for 2 iterations = 461\n",
      "for 2 iterations = 456\n",
      "for 2 iterations = 448\n",
      "for 2 iterations = 445\n",
      "for 3 iterations = 744\n",
      "for 3 iterations = 734\n",
      "for 3 iterations = 726\n",
      "for 3 iterations = 732\n",
      "for 3 iterations = 735\n",
      "for 4 iterations = 1186\n",
      "for 4 iterations = 1159\n",
      "for 4 iterations = 1155\n",
      "for 4 iterations = 1163\n",
      "for 4 iterations = 1165\n",
      "for 5 iterations = 1777\n",
      "for 5 iterations = 1761\n",
      "for 5 iterations = 1766\n",
      "for 5 iterations = 1780\n",
      "for 5 iterations = 1747\n",
      "for 6 iterations = 1999\n",
      "for 6 iterations = 1999\n",
      "for 6 iterations = 1999\n",
      "for 6 iterations = 1999\n",
      "for 6 iterations = 1999\n",
      "for 7 iterations = 1999\n",
      "for 7 iterations = 1999\n",
      "for 7 iterations = 1999\n",
      "for 7 iterations = 1999\n",
      "for 7 iterations = 1999\n",
      "for 8 iterations = 1999\n",
      "for 8 iterations = 1999\n",
      "for 8 iterations = 1999\n",
      "for 8 iterations = 1999\n",
      "for 8 iterations = 1999\n",
      "for 9 iterations = 1999\n",
      "for 9 iterations = 1999\n",
      "for 9 iterations = 1999\n",
      "for 9 iterations = 1999\n",
      "for 9 iterations = 1999\n",
      "for 10 iterations = 1999\n",
      "for 10 iterations = 1999\n",
      "for 10 iterations = 1999\n",
      "for 10 iterations = 1999\n",
      "for 10 iterations = 1999\n",
      "for 11 iterations = 1999\n",
      "for 11 iterations = 1999\n",
      "for 11 iterations = 1999\n",
      "for 11 iterations = 1999\n",
      "for 11 iterations = 1999\n",
      "for 12 iterations = 1999\n",
      "for 12 iterations = 1999\n",
      "for 12 iterations = 1999\n",
      "for 12 iterations = 1999\n",
      "for 12 iterations = 1999\n",
      "12\n",
      "[186757.035      186763.56175254 186747.14186784 186756.70344109\n",
      " 186760.30897009 186760.11539307 186586.80410802 187189.57146464\n",
      " 185301.15585099 188125.36530349 183969.30305832 190414.0078971\n",
      " 183339.48801707]\n"
     ]
    },
    {
     "data": {
      "image/png": "[encoded data removed]",
      "text/plain": [
       "<Figure size 432x288 with 1 Axes>"
      ]
     },
     "metadata": {
      "needs_background": "light"
     },
     "output_type": "display_data"
    },
    {
     "data": {
      "image/png": "[encoded data removed]",
      "text/plain": [
       "<Figure size 432x288 with 1 Axes>"
      ]
     },
     "metadata": {
      "needs_background": "light"
     },
     "output_type": "display_data"
    },
    {
     "name": "stdout",
     "output_type": "stream",
     "text": [
      "the variance in noise is : 85280368081.3819\n"
     ]
    },
    {
     "data": {
      "image/png": "[encoded data removed]",
      "text/plain": [
       "<Figure size 432x288 with 1 Axes>"
      ]
     },
     "metadata": {
      "needs_background": "light"
     },
     "output_type": "display_data"
    },
    {
     "data": {
      "image/png": "[encoded data removed]",
      "text/plain": [
       "<Figure size 432x288 with 1 Axes>"
      ]
     },
     "metadata": {
      "needs_background": "light"
     },
     "output_type": "display_data"
    },
    {
     "name": "stdout",
     "output_type": "stream",
     "text": [
      "so our ploynomial is 142825.77761399746 +-53013.1469745636x^1 +128315.95536231995x^2 +-182891.24296814203x^3 +186816.8933161497x^4 +-139936.27406722307x^5 +69825.21405497193x^6 +-12992.24428653717x^7 +-8221.564091753215x^8 +-1859.4134695082903x^9 +18095.816543877125x^10 +-14385.173891469836x^11 +-16039.186386689544x^12 \n"
     ]
    }
   ],
   "source": [
    "alpha = 1000\n",
    "numIter = 2*10**3\n",
    "tol = 10\n",
    "U=X\n",
    "factor=0.8\n",
    "test_cases=[20]\n",
    "Error_Power_Array=np.zeros(13)\n",
    "for t in test_cases:\n",
    "    X_Set=X[0:t]\n",
    "    y_Set=y[0:t]\n",
    "    fold=5\n",
    "    for deg in range(13):\n",
    "        sum_Err=0\n",
    "        seg = int(t/fold)\n",
    "        for h in range(fold):\n",
    "            X_temp_val = U[h*seg:(h+1)*seg]\n",
    "            y_temp_val = y[h*seg:(h+1)*seg]\n",
    "            X_temp_train=np.append(U[0:h*seg],U[(h+1)*seg:])\n",
    "            y_temp_train=np.append(U[0:h*seg],U[(h+1)*seg:])\n",
    "            \n",
    "            w,errors,variance=RegGradDescent(X_temp_train,y_temp_train,deg,alpha,tol,numIter,0)\n",
    "            \n",
    "            Err_temp=Error(X_temp_val,y_temp_val,w)\n",
    "            sum_Err+=Err_temp\n",
    "        Error_Power_Array[deg] = sum_Err/fold\n",
    "    final_deg = FindMinIndex(Error_Power_Array)\n",
    "    print(final_deg)\n",
    "    print(Error_Power_Array)\n",
    "    \n",
    "    plt.figure()\n",
    "    plt.plot(np.arange(0,len(Error_Power_Array)), Error_Power_Array)\n",
    "    plt.xlabel(\"Degree of Ploynomial\")\n",
    "    plt.ylabel(\"Cross Validation Error\")\n",
    "    plt.show()\n",
    "\n",
    "    table=[]\n",
    "    for i in range (2000):\n",
    "        X_train, X_test, y_train, y_test = train_test_split(X_Set, y_Set, train_size=0.8,test_size=0.2)\n",
    "        a = MatrixMethod(X_train,y_train,final_deg,0.0005*i)\n",
    "        Y_pred = hypothesis(X_test,a)\n",
    "        e= np.array(Y_pred-y_test)\n",
    "        table.append(np.var(e))\n",
    "\n",
    "    \n",
    "    plt.plot(np.arange(0,len(table)), table)\n",
    "    plt.xlabel(\"Lambda/200\")\n",
    "    plt.ylabel(\"Goodness in fitting \")\n",
    "    plt.show()\n",
    "\n",
    "    lamb=FindMinIndex(table)*0.0005\n",
    "    a = MatrixMethod(X_Set,y_Set,final_deg,lamb)\n",
    "    Y_pred=hypothesis(X,a)\n",
    "    \n",
    "    print( \"the variance in noise is : \" + str(np.var(Y_pred-y)) )\n",
    "    \n",
    "    plt.scatter(X,y, color = 'blue')\n",
    "    plt.plot(X, Y_pred, color = 'red')\n",
    "    plt.title(\"Comparasion of matrix method result: \")\n",
    "    plt.show()\n",
    "    \n",
    "          \n",
    "    plt.plot( X, Y_pred-y, color = 'green')\n",
    "    plt.title(\"Diffrences in matrix method result: \")\n",
    "    plt.show()\n",
    "    \n",
    "    s=str(a[0])+\" \"\n",
    "    for i in range (1,len(a)):\n",
    "        s+= \"+\"+str(a[i])+\"x^\" +str(i)+\" \"\n",
    "    print(\"so our ploynomial is \"+ s)\n",
    "    \n",
    "    "
   ]
  },
  {
   "cell_type": "code",
   "execution_count": 874,
   "metadata": {},
   "outputs": [
    {
     "name": "stdout",
     "output_type": "stream",
     "text": [
      "0.005\n",
      "-16932.335443570322\n",
      "188675.82210988627\n"
     ]
    }
   ],
   "source": [
    "print(lamb)\n",
    "print(np.mean(hypothesis(X,a)-y))\n",
    "print(np.var(hypothesis(X_Set,a)-y_Set))"
   ]
  },
  {
   "cell_type": "code",
   "execution_count": 875,
   "metadata": {},
   "outputs": [],
   "source": [
    "# plt.plot(X, line, label = ''.join(label_holder))\n",
    "# plt.xlabel('X')\n",
    "# plt.ylabel('y')"
   ]
  },
  {
   "cell_type": "code",
   "execution_count": 876,
   "metadata": {},
   "outputs": [
    {
     "data": {
      "text/plain": [
       "[<matplotlib.lines.Line2D at 0x223619c0fa0>]"
      ]
     },
     "execution_count": 876,
     "metadata": {},
     "output_type": "execute_result"
    },
    {
     "data": {
      "image/png": "[encoded data removed]",
      "text/plain": [
       "<Figure size 432x288 with 1 Axes>"
      ]
     },
     "metadata": {
      "needs_background": "light"
     },
     "output_type": "display_data"
    }
   ],
   "source": [
    "plt.figure()\n",
    "plt.plot(np.arange(1,len(errors)+1), errors)\n"
   ]
  },
  {
   "cell_type": "code",
   "execution_count": 877,
   "metadata": {},
   "outputs": [
    {
     "name": "stdout",
     "output_type": "stream",
     "text": [
      "[ 142825.777614    -53013.14697456  128315.95536232 -182891.24296814\n",
      "  186816.89331615 -139936.27406722   69825.21405497  -12992.24428654\n",
      "   -8221.56409175   -1859.41346951   18095.81654388  -14385.17389147\n",
      "  -16039.18638669]\n"
     ]
    }
   ],
   "source": [
    "print(a)"
   ]
  },
  {
   "cell_type": "code",
   "execution_count": 878,
   "metadata": {},
   "outputs": [
    {
     "name": "stdout",
     "output_type": "stream",
     "text": [
      "-16932.335443570322\n",
      "85280368081.3819\n"
     ]
    }
   ],
   "source": [
    "h1 = hypothesis(X,a)\n",
    "print(np.mean(h1-y))\n",
    "print(np.var(h1-y))"
   ]
  },
  {
   "cell_type": "code",
   "execution_count": 879,
   "metadata": {},
   "outputs": [
    {
     "name": "stdout",
     "output_type": "stream",
     "text": [
      "0.005\n"
     ]
    }
   ],
   "source": [
    "print(lamb)"
   ]
  },
  {
   "cell_type": "code",
   "execution_count": 880,
   "metadata": {},
   "outputs": [
    {
     "data": {
      "text/plain": [
       "array([ 10369.79166667,  30184.91666667,  50084.32930729,  70671.2000376 ,\n",
       "        89548.22746234, 101960.50393598, 110293.89867871, 109338.85127391,\n",
       "       101675.39297018,  89236.11312581,  72974.49962403,  51483.26356648,\n",
       "        25249.87893496])"
      ]
     },
     "execution_count": 880,
     "metadata": {},
     "output_type": "execute_result"
    }
   ],
   "source": [
    "w"
   ]
  },
  {
   "cell_type": "code",
   "execution_count": 881,
   "metadata": {},
   "outputs": [
    {
     "data": {
      "text/plain": [
       "array([ 142825.777614  ,  -53013.14697456,  128315.95536232,\n",
       "       -182891.24296814,  186816.89331615, -139936.27406722,\n",
       "         69825.21405497,  -12992.24428654,   -8221.56409175,\n",
       "         -1859.41346951,   18095.81654388,  -14385.17389147,\n",
       "        -16039.18638669])"
      ]
     },
     "execution_count": 881,
     "metadata": {},
     "output_type": "execute_result"
    }
   ],
   "source": [
    "a"
   ]
  },
  {
   "cell_type": "code",
   "execution_count": null,
   "metadata": {},
   "outputs": [],
   "source": []
  },
  {
   "cell_type": "code",
   "execution_count": 882,
   "metadata": {},
   "outputs": [
    {
     "data": {
      "text/plain": [
       "-3.3599999999999994"
      ]
     },
     "execution_count": 882,
     "metadata": {},
     "output_type": "execute_result"
    }
   ],
   "source": [
    "X[19]*5"
   ]
  },
  {
   "cell_type": "code",
   "execution_count": null,
   "metadata": {},
   "outputs": [],
   "source": []
  }
 ],
 "metadata": {
  "kernelspec": {
   "display_name": "Python 3",
   "language": "python",
   "name": "python3"
  },
  "language_info": {
   "codemirror_mode": {
    "name": "ipython",
    "version": 3
   },
   "file_extension": ".py",
   "mimetype": "text/x-python",
   "name": "python",
   "nbconvert_exporter": "python",
   "pygments_lexer": "ipython3",
   "version": "3.7.9"
  }
 },
 "nbformat": 4,
 "nbformat_minor": 4
}
