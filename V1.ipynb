{
 "cells": [
  {
   "cell_type": "code",
   "execution_count": 43,
   "metadata": {},
   "outputs": [],
   "source": [
    "import numpy as np\n",
    "import pandas as pd\n",
    "import math\n",
    "from collections import OrderedDict\n",
    "import matplotlib.pyplot as plt"
   ]
  },
  {
   "cell_type": "code",
   "execution_count": 44,
   "metadata": {},
   "outputs": [
    {
     "data": {
      "text/html": [
       "<div>\n",
       "<style scoped>\n",
       "    .dataframe tbody tr th:only-of-type {\n",
       "        vertical-align: middle;\n",
       "    }\n",
       "\n",
       "    .dataframe tbody tr th {\n",
       "        vertical-align: top;\n",
       "    }\n",
       "\n",
       "    .dataframe thead th {\n",
       "        text-align: right;\n",
       "    }\n",
       "</style>\n",
       "<table border=\"1\" class=\"dataframe\">\n",
       "  <thead>\n",
       "    <tr style=\"text-align: right;\">\n",
       "      <th></th>\n",
       "      <th>x</th>\n",
       "      <th>y</th>\n",
       "    </tr>\n",
       "  </thead>\n",
       "  <tbody>\n",
       "    <tr>\n",
       "      <th>0</th>\n",
       "      <td>-4.98</td>\n",
       "      <td>896260.03</td>\n",
       "    </tr>\n",
       "    <tr>\n",
       "      <th>1</th>\n",
       "      <td>-4.94</td>\n",
       "      <td>836639.80</td>\n",
       "    </tr>\n",
       "    <tr>\n",
       "      <th>2</th>\n",
       "      <td>-4.89</td>\n",
       "      <td>767007.86</td>\n",
       "    </tr>\n",
       "    <tr>\n",
       "      <th>3</th>\n",
       "      <td>-4.88</td>\n",
       "      <td>753705.40</td>\n",
       "    </tr>\n",
       "    <tr>\n",
       "      <th>4</th>\n",
       "      <td>-4.78</td>\n",
       "      <td>631368.25</td>\n",
       "    </tr>\n",
       "    <tr>\n",
       "      <th>...</th>\n",
       "      <td>...</td>\n",
       "      <td>...</td>\n",
       "    </tr>\n",
       "    <tr>\n",
       "      <th>95</th>\n",
       "      <td>4.53</td>\n",
       "      <td>1030635.93</td>\n",
       "    </tr>\n",
       "    <tr>\n",
       "      <th>96</th>\n",
       "      <td>4.56</td>\n",
       "      <td>1083709.22</td>\n",
       "    </tr>\n",
       "    <tr>\n",
       "      <th>97</th>\n",
       "      <td>4.64</td>\n",
       "      <td>1237097.49</td>\n",
       "    </tr>\n",
       "    <tr>\n",
       "      <th>98</th>\n",
       "      <td>4.70</td>\n",
       "      <td>1364282.15</td>\n",
       "    </tr>\n",
       "    <tr>\n",
       "      <th>99</th>\n",
       "      <td>4.86</td>\n",
       "      <td>1760969.69</td>\n",
       "    </tr>\n",
       "  </tbody>\n",
       "</table>\n",
       "<p>100 rows × 2 columns</p>\n",
       "</div>"
      ],
      "text/plain": [
       "       x           y\n",
       "0  -4.98   896260.03\n",
       "1  -4.94   836639.80\n",
       "2  -4.89   767007.86\n",
       "3  -4.88   753705.40\n",
       "4  -4.78   631368.25\n",
       "..   ...         ...\n",
       "95  4.53  1030635.93\n",
       "96  4.56  1083709.22\n",
       "97  4.64  1237097.49\n",
       "98  4.70  1364282.15\n",
       "99  4.86  1760969.69\n",
       "\n",
       "[100 rows x 2 columns]"
      ]
     },
     "execution_count": 44,
     "metadata": {},
     "output_type": "execute_result"
    }
   ],
   "source": [
    "data = pd.read_csv('group04.txt')\n",
    "data"
   ]
  },
  {
   "cell_type": "code",
   "execution_count": 45,
   "metadata": {},
   "outputs": [
    {
     "name": "stdout",
     "output_type": "stream",
     "text": [
      "100 (100,)\n"
     ]
    }
   ],
   "source": [
    "X = data.iloc[:, 0].values\n",
    "y = data.iloc[:, 1].values\n",
    "print(len(X), y.shape)"
   ]
  },
  {
   "cell_type": "code",
   "execution_count": 46,
   "metadata": {},
   "outputs": [
    {
     "data": {
      "text/plain": [
       "array([-4.98, -4.94, -4.89, -4.88, -4.78, -4.76, -4.71, -4.62, -4.52,\n",
       "       -4.39, -4.38, -4.37, -4.31, -3.84, -3.75, -3.72, -3.58, -3.55,\n",
       "       -3.4 , -3.36, -3.32, -3.31, -3.22, -2.99, -2.84, -2.79, -2.61,\n",
       "       -2.47, -2.32, -2.31, -2.21, -2.2 , -2.11, -2.09, -1.96, -1.91,\n",
       "       -1.85, -1.82, -1.72, -1.68, -1.6 , -1.57, -1.54, -1.41, -1.39,\n",
       "       -1.33, -1.28, -1.09, -0.9 , -0.82, -0.61, -0.29, -0.19, -0.05,\n",
       "       -0.  ,  0.24,  0.27,  0.35,  0.54,  0.55,  0.63,  0.73,  0.75,\n",
       "        1.03,  1.05,  1.14,  1.21,  1.26,  1.35,  1.55,  1.82,  2.04,\n",
       "        2.1 ,  2.29,  2.38,  2.49,  2.55,  2.93,  2.94,  3.15,  3.26,\n",
       "        3.27,  3.3 ,  3.34,  3.47,  3.49,  3.59,  3.73,  3.81,  3.85,\n",
       "        3.88,  3.9 ,  4.01,  4.15,  4.38,  4.53,  4.56,  4.64,  4.7 ,\n",
       "        4.86])"
      ]
     },
     "execution_count": 46,
     "metadata": {},
     "output_type": "execute_result"
    }
   ],
   "source": [
    "X"
   ]
  },
  {
   "cell_type": "code",
   "execution_count": 47,
   "metadata": {},
   "outputs": [
    {
     "data": {
      "text/plain": [
       "array([8.96260030e+05, 8.36639800e+05, 7.67007860e+05, 7.53705400e+05,\n",
       "       6.31368250e+05, 6.09101210e+05, 5.56409190e+05, 4.71524510e+05,\n",
       "       3.90676640e+05, 3.03824770e+05, 2.97903610e+05, 2.92084150e+05,\n",
       "       2.59208910e+05, 9.49696300e+04, 7.71442500e+04, 7.18906000e+04,\n",
       "       5.12770200e+04, 4.76034600e+04, 3.24646600e+04, 2.92174500e+04,\n",
       "       2.62586800e+04, 2.55616400e+04, 1.99733600e+04, 1.02331200e+04,\n",
       "       6.39803000e+03, 5.43467000e+03, 2.92922000e+03, 1.74532000e+03,\n",
       "       9.60020000e+02, 9.20220000e+02, 5.99330000e+02, 5.73410000e+02,\n",
       "       3.80850000e+02, 3.46160000e+02, 1.81600000e+02, 1.41150000e+02,\n",
       "       1.00870000e+02, 8.55000000e+01, 4.72400000e+01, 3.75300000e+01,\n",
       "       2.21300000e+01, 1.85800000e+01, 1.48400000e+01, 6.88000000e+00,\n",
       "       5.84000000e+00, 3.51000000e+00, 3.03000000e+00, 2.44000000e+00,\n",
       "       8.00000000e-01, 4.00000000e-02, 2.70000000e-01, 2.70000000e-01,\n",
       "       1.50000000e-01, 1.10000000e+00, 1.86000000e+00, 3.66000000e+00,\n",
       "       3.80000000e+00, 5.43000000e+00, 8.60000000e+00, 8.73000000e+00,\n",
       "       1.12600000e+01, 1.45800000e+01, 1.55900000e+01, 4.26100000e+01,\n",
       "       4.71900000e+01, 7.02200000e+01, 9.42700000e+01, 1.18020000e+02,\n",
       "       1.78150000e+02, 4.23950000e+02, 1.25187000e+03, 2.79174000e+03,\n",
       "       3.43212000e+03, 6.39609000e+03, 8.45947000e+03, 1.17567600e+04,\n",
       "       1.39946900e+04, 3.89529800e+04, 3.99497600e+04, 6.67204000e+04,\n",
       "       8.61967200e+04, 8.81917800e+04, 9.44206300e+04, 1.03323190e+05,\n",
       "       1.37538280e+05, 1.43597250e+05, 1.77529940e+05, 2.36738530e+05,\n",
       "       2.77792740e+05, 3.00561790e+05, 3.18693690e+05, 3.31305570e+05,\n",
       "       4.08789290e+05, 5.30012370e+05, 7.97918070e+05, 1.03063593e+06,\n",
       "       1.08370922e+06, 1.23709749e+06, 1.36428215e+06, 1.76096969e+06])"
      ]
     },
     "execution_count": 47,
     "metadata": {},
     "output_type": "execute_result"
    }
   ],
   "source": [
    "y"
   ]
  },
  {
   "cell_type": "code",
   "execution_count": 48,
   "metadata": {},
   "outputs": [
    {
     "data": {
      "text/plain": [
       "<matplotlib.collections.PathCollection at 0x26057a64188>"
      ]
     },
     "execution_count": 48,
     "metadata": {},
     "output_type": "execute_result"
    },
    {
     "data": {
      "image/png": "[encoded data removed]",
      "text/plain": [
       "<Figure size 432x288 with 1 Axes>"
      ]
     },
     "metadata": {
      "needs_background": "light"
     },
     "output_type": "display_data"
    }
   ],
   "source": [
    "plt.scatter(X, y, color = 'blue')"
   ]
  },
  {
   "cell_type": "code",
   "execution_count": 49,
   "metadata": {},
   "outputs": [],
   "source": [
    "def normalize(value):\n",
    "    return (value - np.mean(value))/(np.max(value) - np.min(value))"
   ]
  },
  {
   "cell_type": "code",
   "execution_count": 50,
   "metadata": {},
   "outputs": [],
   "source": [
    "def transform(x, degree):\n",
    "    m = len(x)\n",
    "    X_trans = np.ones((m,1))\n",
    "    j = 0\n",
    "    for j in range(degree + 1):\n",
    "        if j != 0:\n",
    "            x_pow = normalize(np.power(x,j))\n",
    "            X_trans = np.append(X_trans, x_pow.reshape( -1, 1 ), axis = 1)\n",
    "    return X_trans"
   ]
  },
  {
   "cell_type": "code",
   "execution_count": 51,
   "metadata": {},
   "outputs": [
    {
     "data": {
      "text/plain": [
       "array([[ 1.00000000e+00, -4.74115854e-01,  6.36536467e-01,\n",
       "        -4.96171665e-01],\n",
       "       [ 1.00000000e+00, -4.70050813e-01,  6.20536725e-01,\n",
       "        -4.83782903e-01],\n",
       "       [ 1.00000000e+00, -4.64969512e-01,  6.00718496e-01,\n",
       "        -4.68576622e-01],\n",
       "       [ 1.00000000e+00, -4.63953252e-01,  5.96779044e-01,\n",
       "        -4.65572403e-01],\n",
       "       [ 1.00000000e+00, -4.53790650e-01,  5.57828059e-01,\n",
       "        -4.36201858e-01],\n",
       "       [ 1.00000000e+00, -4.51758130e-01,  5.50134635e-01,\n",
       "        -4.30472980e-01],\n",
       "       [ 1.00000000e+00, -4.46676829e-01,  5.31042201e-01,\n",
       "        -4.16360081e-01],\n",
       "       [ 1.00000000e+00, -4.37530488e-01,  4.97183876e-01,\n",
       "        -3.91701873e-01],\n",
       "       [ 1.00000000e+00, -4.27367886e-01,  4.60329632e-01,\n",
       "        -3.65408158e-01],\n",
       "       [ 1.00000000e+00, -4.14156504e-01,  4.13624740e-01,\n",
       "        -3.32923985e-01],\n",
       "       [ 1.00000000e+00, -4.13140244e-01,  4.10088507e-01,\n",
       "        -3.30503281e-01],\n",
       "       [ 1.00000000e+00, -4.12123984e-01,  4.06560338e-01,\n",
       "        -3.28093606e-01],\n",
       "       [ 1.00000000e+00, -4.06026423e-01,  3.85560676e-01,\n",
       "        -3.13865737e-01],\n",
       "       [ 1.00000000e+00, -3.58262195e-01,  2.31107522e-01,\n",
       "        -2.15501668e-01],\n",
       "       [ 1.00000000e+00, -3.49115854e-01,  2.03563612e-01,\n",
       "        -1.99182852e-01],\n",
       "       [ 1.00000000e+00, -3.46067073e-01,  1.94527467e-01,\n",
       "        -1.93914108e-01],\n",
       "       [ 1.00000000e+00, -3.31839431e-01,  1.53318455e-01,\n",
       "        -1.70430262e-01],\n",
       "       [ 1.00000000e+00, -3.28790650e-01,  1.44693594e-01,\n",
       "        -1.65630219e-01],\n",
       "       [ 1.00000000e+00, -3.13546748e-01,  1.02657981e-01,\n",
       "        -1.42823095e-01],\n",
       "       [ 1.00000000e+00, -3.09481707e-01,  9.17549314e-02,\n",
       "        -1.37070011e-01],\n",
       "       [ 1.00000000e+00, -3.05416667e-01,  8.09809116e-02,\n",
       "        -1.31452288e-01],\n",
       "       [ 1.00000000e+00, -3.04400407e-01,  7.83075676e-02,\n",
       "        -1.30068818e-01],\n",
       "       [ 1.00000000e+00, -2.95254065e-01,  5.46103692e-02,\n",
       "        -1.17989606e-01],\n",
       "       [ 1.00000000e+00, -2.71880081e-01, -2.98144385e-03,\n",
       "        -9.00608361e-02],\n",
       "       [ 1.00000000e+00, -2.56636179e-01, -3.82429719e-02,\n",
       "        -7.40111543e-02],\n",
       "       [ 1.00000000e+00, -2.51554878e-01, -4.95935953e-02,\n",
       "        -6.90229935e-02],\n",
       "       [ 1.00000000e+00, -2.33262195e-01, -8.87865115e-02,\n",
       "        -5.24971711e-02],\n",
       "       [ 1.00000000e+00, -2.19034553e-01, -1.17463468e-01,\n",
       "        -4.11233175e-02],\n",
       "       [ 1.00000000e+00, -2.03790650e-01, -1.46434775e-01,\n",
       "        -3.02878797e-02],\n",
       "       [ 1.00000000e+00, -2.02774390e-01, -1.48301681e-01,\n",
       "        -2.96131888e-02],\n",
       "       [ 1.00000000e+00, -1.92611789e-01, -1.66527193e-01,\n",
       "        -2.31820192e-02],\n",
       "       [ 1.00000000e+00, -1.91595528e-01, -1.68305390e-01,\n",
       "        -2.25699224e-02],\n",
       "       [ 1.00000000e+00, -1.82449187e-01, -1.83946267e-01,\n",
       "        -1.73072976e-02],\n",
       "       [ 1.00000000e+00, -1.80416667e-01, -1.87333309e-01,\n",
       "        -1.61969113e-02],\n",
       "       [ 1.00000000e+00, -1.67205285e-01, -2.08562805e-01,\n",
       "        -9.48347666e-03],\n",
       "       [ 1.00000000e+00, -1.62123984e-01, -2.16365099e-01,\n",
       "        -7.12648343e-03],\n",
       "       [ 1.00000000e+00, -1.56026423e-01, -2.25461726e-01,\n",
       "        -4.45651554e-03],\n",
       "       [ 1.00000000e+00, -1.52977642e-01, -2.29901171e-01,\n",
       "        -3.18475516e-03],\n",
       "       [ 1.00000000e+00, -1.42815041e-01, -2.44175134e-01,\n",
       "         7.60401606e-04],\n",
       "       [ 1.00000000e+00, -1.38750000e-01, -2.49658917e-01,\n",
       "         2.21579399e-03],\n",
       "       [ 1.00000000e+00, -1.30619919e-01, -2.60239391e-01,\n",
       "         4.92514966e-03],\n",
       "       [ 1.00000000e+00, -1.27571138e-01, -2.64074007e-01,\n",
       "         5.87399402e-03],\n",
       "       [ 1.00000000e+00, -1.24522358e-01, -2.67836043e-01,\n",
       "         6.78726097e-03],\n",
       "       [ 1.00000000e+00, -1.11310976e-01, -2.83299503e-01,\n",
       "         1.03502186e-02],\n",
       "       [ 1.00000000e+00, -1.09278455e-01, -2.85557531e-01,\n",
       "         1.08437283e-02],\n",
       "       [ 1.00000000e+00, -1.03180894e-01, -2.92138070e-01,\n",
       "         1.22410671e-02],\n",
       "       [ 1.00000000e+00, -9.80995935e-02, -2.97400082e-01,\n",
       "         1.33131945e-02],\n",
       "       [ 1.00000000e+00, -7.87906504e-02, -3.15557047e-01,\n",
       "         1.66792552e-02],\n",
       "       [ 1.00000000e+00, -5.94817073e-02, -3.30802769e-01,\n",
       "         1.90545617e-02],\n",
       "       [ 1.00000000e+00, -5.13516260e-02, -3.36351067e-01,\n",
       "         1.97999836e-02],\n",
       "       [ 1.00000000e+00, -3.00101626e-02, -3.48459743e-01,\n",
       "         2.11612541e-02],\n",
       "       [ 1.00000000e+00,  2.51016260e-03, -3.60072459e-01,\n",
       "         2.20114192e-02],\n",
       "       [ 1.00000000e+00,  1.26727642e-02, -3.62007911e-01,\n",
       "         2.20849827e-02],\n",
       "       [ 1.00000000e+00,  2.69004065e-02, -3.63362728e-01,\n",
       "         2.21132416e-02],\n",
       "       [ 1.00000000e+00,  3.19817073e-02, -3.63463533e-01,\n",
       "         2.21137661e-02],\n",
       "       [ 1.00000000e+00,  5.63719512e-02, -3.61140990e-01,\n",
       "         2.21717777e-02],\n",
       "       [ 1.00000000e+00,  5.94207317e-02, -3.60524064e-01,\n",
       "         2.21963646e-02],\n",
       "       [ 1.00000000e+00,  6.75508130e-02, -3.58524096e-01,\n",
       "         2.22936885e-02],\n",
       "       [ 1.00000000e+00,  8.68597561e-02, -3.51705658e-01,\n",
       "         2.27745543e-02],\n",
       "       [ 1.00000000e+00,  8.78760163e-02, -3.51266149e-01,\n",
       "         2.28119488e-02],\n",
       "       [ 1.00000000e+00,  9.60060976e-02, -3.47459759e-01,\n",
       "         2.31630732e-02],\n",
       "       [ 1.00000000e+00,  1.06168699e-01, -3.41975976e-01,\n",
       "         2.37462525e-02],\n",
       "       [ 1.00000000e+00,  1.08201220e-01, -3.40782447e-01,\n",
       "         2.38841391e-02],\n",
       "       [ 1.00000000e+00,  1.36656504e-01, -3.20685997e-01,\n",
       "         2.66993289e-02],\n",
       "       [ 1.00000000e+00,  1.38689024e-01, -3.19008605e-01,\n",
       "         2.69716695e-02],\n",
       "       [ 1.00000000e+00,  1.47835366e-01, -3.11061152e-01,\n",
       "         2.83309760e-02],\n",
       "       [ 1.00000000e+00,  1.54949187e-01, -3.04428195e-01,\n",
       "         2.95480148e-02],\n",
       "       [ 1.00000000e+00,  1.60030488e-01, -2.99448436e-01,\n",
       "         3.05082231e-02],\n",
       "       [ 1.00000000e+00,  1.69176829e-01, -2.89976815e-01,\n",
       "         3.24385811e-02],\n",
       "       [ 1.00000000e+00,  1.89502033e-01, -2.66590095e-01,\n",
       "         3.77407825e-02],\n",
       "       [ 1.00000000e+00,  2.16941057e-01, -2.29901171e-01,\n",
       "         4.74122874e-02],\n",
       "       [ 1.00000000e+00,  2.39298780e-01, -1.95659788e-01,\n",
       "         5.77401280e-02],\n",
       "       [ 1.00000000e+00,  2.45396341e-01, -1.85643820e-01,\n",
       "         6.09769929e-02],\n",
       "       [ 1.00000000e+00,  2.64705285e-01, -1.52011298e-01,\n",
       "         7.25087627e-02],\n",
       "       [ 1.00000000e+00,  2.73851626e-01, -1.35063991e-01,\n",
       "         7.86871093e-02],\n",
       "       [ 1.00000000e+00,  2.85030488e-01, -1.13463533e-01,\n",
       "         8.68994451e-02],\n",
       "       [ 1.00000000e+00,  2.91128049e-01, -1.01270181e-01,\n",
       "         9.16965042e-02],\n",
       "       [ 1.00000000e+00,  3.29745935e-01, -1.73037935e-02,\n",
       "         1.27669987e-01],\n",
       "       [ 1.00000000e+00,  3.30762195e-01, -1.49368962e-02,\n",
       "         1.28754461e-01],\n",
       "       [ 1.00000000e+00,  3.52103659e-01,  3.66308205e-02,\n",
       "         1.53277157e-01],\n",
       "       [ 1.00000000e+00,  3.63282520e-01,  6.50618135e-02,\n",
       "         1.67503511e-01],\n",
       "       [ 1.00000000e+00,  3.64298780e-01,  6.76948356e-02,\n",
       "         1.68845561e-01],\n",
       "       [ 1.00000000e+00,  3.67347561e-01,  7.56422880e-02,\n",
       "         1.72921215e-01],\n",
       "       [ 1.00000000e+00,  3.71412602e-01,  8.63517927e-02,\n",
       "         1.78471862e-01],\n",
       "       [ 1.00000000e+00,  3.84623984e-01,  1.22048798e-01,\n",
       "         1.97449081e-01],\n",
       "       [ 1.00000000e+00,  3.86656504e-01,  1.27661610e-01,\n",
       "         2.00498323e-01],\n",
       "       [ 1.00000000e+00,  3.96819106e-01,  1.56209537e-01,\n",
       "         2.16275803e-01],\n",
       "       [ 1.00000000e+00,  4.11046748e-01,  1.97531451e-01,\n",
       "         2.39888488e-01],\n",
       "       [ 1.00000000e+00,  4.19176829e-01,  2.21853639e-01,\n",
       "         2.54203484e-01],\n",
       "       [ 1.00000000e+00,  4.23241870e-01,  2.34208279e-01,\n",
       "         2.61590409e-01],\n",
       "       [ 1.00000000e+00,  4.26290650e-01,  2.43558935e-01,\n",
       "         2.67232300e-01],\n",
       "       [ 1.00000000e+00,  4.28323171e-01,  2.49833027e-01,\n",
       "         2.71042365e-01],\n",
       "       [ 1.00000000e+00,  4.39502033e-01,  2.84917138e-01,\n",
       "         2.92705229e-01],\n",
       "       [ 1.00000000e+00,  4.53729675e-01,  3.30980912e-01,\n",
       "         3.22047465e-01],\n",
       "       [ 1.00000000e+00,  4.77103659e-01,  4.10088507e-01,\n",
       "         3.74730814e-01],\n",
       "       [ 1.00000000e+00,  4.92347561e-01,  4.63978766e-01,\n",
       "         4.12213433e-01],\n",
       "       [ 1.00000000e+00,  4.95396341e-01,  4.74974557e-01,\n",
       "         4.20015197e-01],\n",
       "       [ 1.00000000e+00,  5.03526423e-01,  5.04651498e-01,\n",
       "         4.41326933e-01],\n",
       "       [ 1.00000000e+00,  5.09623984e-01,  5.27247907e-01,\n",
       "         4.57800711e-01],\n",
       "       [ 1.00000000e+00,  5.25884146e-01,  5.88924332e-01,\n",
       "         5.03828335e-01]])"
      ]
     },
     "execution_count": 51,
     "metadata": {},
     "output_type": "execute_result"
    }
   ],
   "source": [
    "X_trans = transform(X, 3)\n",
    "X_trans"
   ]
  },
  {
   "cell_type": "code",
   "execution_count": 52,
   "metadata": {},
   "outputs": [],
   "source": [
    "def hypothesis(x, w):\n",
    "    h = w[0]\n",
    "    for i in np.arange(1, len(w)):\n",
    "        h += w[i]*(x ** i)\n",
    "    return h"
   ]
  },
  {
   "cell_type": "code",
   "execution_count": 53,
   "metadata": {},
   "outputs": [],
   "source": [
    "def Error(x, y, w):\n",
    "    m = len(y)\n",
    "    h = hypothesis(x,w)\n",
    "    error = h-y\n",
    "    return (1/(2*m))*np.sum(error ** 2)"
   ]
  },
  {
   "cell_type": "code",
   "execution_count": 54,
   "metadata": {},
   "outputs": [],
   "source": [
    "def gradDescent(x,y,degree,learningRate,tol,iterations):\n",
    "    X_trans = transform(x,degree)\n",
    "    m = len(x)\n",
    "    w = np.zeros(degree+1)\n",
    "    errors = []\n",
    "    for i in range(iterations):\n",
    "        h = hypothesis(x,w)\n",
    "        e = h-y\n",
    "        w += -learningRate * (1/m)*np.dot(e,X_trans)\n",
    "        ein = Error(x,y,w)\n",
    "        errors.append(ein)\n",
    "        if ein < tol:\n",
    "            break\n",
    "    return w,errors"
   ]
  },
  {
   "cell_type": "code",
   "execution_count": 55,
   "metadata": {},
   "outputs": [],
   "source": [
    "alpha = 0.01\n",
    "numIter = 1000\n",
    "tol = 10**-3\n",
    "power = 4\n",
    "w,errors = gradDescent(X,y,power,alpha,tol,numIter)\n",
    "iter = []\n",
    "for i in range(1,1001):\n",
    "    iter.append(i)"
   ]
  },
  {
   "cell_type": "code",
   "execution_count": 56,
   "metadata": {},
   "outputs": [
    {
     "data": {
      "text/plain": [
       "[<matplotlib.lines.Line2D at 0x26057abc708>]"
      ]
     },
     "execution_count": 56,
     "metadata": {},
     "output_type": "execute_result"
    },
    {
     "data": {
      "image/png": "[encoded data removed]",
      "text/plain": [
       "<Figure size 432x288 with 1 Axes>"
      ]
     },
     "metadata": {
      "needs_background": "light"
     },
     "output_type": "display_data"
    }
   ],
   "source": [
    "plt.plot(errors,iter, color = 'red')"
   ]
  },
  {
   "cell_type": "code",
   "execution_count": 57,
   "metadata": {},
   "outputs": [
    {
     "data": {
      "text/plain": [
       "array([ 8.18977016e+05,  7.80451144e+05,  7.33972535e+05,  7.24897129e+05,\n",
       "        6.38080184e+05,  6.21557902e+05,  5.81445011e+05,  5.13423098e+05,\n",
       "        4.43896857e+05,  3.62522963e+05,  3.56667538e+05,  3.50868278e+05,\n",
       "        3.17234916e+05,  1.16018883e+05,  8.85922150e+04,  8.01462693e+04,\n",
       "        4.50672103e+04,  3.84360726e+04,  9.61363984e+03,  3.08035982e+03,\n",
       "       -2.99646726e+03, -4.44608550e+03, -1.62878357e+04, -3.75897270e+04,\n",
       "       -4.54861041e+04, -4.72105380e+04, -5.01578595e+04, -4.94181812e+04,\n",
       "       -4.62599454e+04, -4.59752242e+04, -4.26909526e+04, -4.23220691e+04,\n",
       "       -3.87142211e+04, -3.78482396e+04, -3.17550478e+04, -2.92359598e+04,\n",
       "       -2.61170975e+04, -2.45259089e+04, -1.91161402e+04, -1.69241098e+04,\n",
       "       -1.25288784e+04, -1.08851131e+04, -9.24784722e+03, -2.28861721e+03,\n",
       "       -1.24542555e+03,  1.82623416e+03,  4.31026550e+03,  1.29576574e+04,\n",
       "        2.00265262e+04,  2.24429125e+04,  2.70114513e+04,  2.86028938e+04,\n",
       "        2.77207021e+04,  2.53929281e+04,  2.42595886e+04,  1.67332491e+04,\n",
       "        1.55643845e+04,  1.22210646e+04,  3.09478605e+03,  2.57363738e+03,\n",
       "       -1.72068690e+03, -7.36028409e+03, -8.51833277e+03, -2.53073503e+04,\n",
       "       -2.65178355e+04, -3.19184431e+04, -3.60292373e+04, -3.88934359e+04,\n",
       "       -4.38446010e+04, -5.34854161e+04, -6.18659262e+04, -6.28400007e+04,\n",
       "       -6.19329706e+04, -5.50634662e+04, -4.94119517e+04, -4.01218560e+04,\n",
       "       -3.38565105e+04,  2.88857935e+04,  3.11433040e+04,  8.68743798e+04,\n",
       "        1.22912421e+05,  1.26439589e+05,  1.37280285e+05,  1.52349686e+05,\n",
       "        2.06387716e+05,  2.15415603e+05,  2.63557980e+05,  3.39800289e+05,\n",
       "        3.88285748e+05,  4.13934759e+05,  4.33803437e+05,  4.47354948e+05,\n",
       "        5.26383926e+05,  6.38489962e+05,  8.52997467e+05,  1.01494974e+06,\n",
       "        1.04956348e+06,  1.14563176e+06,  1.22136675e+06,  1.43943998e+06])"
      ]
     },
     "execution_count": 57,
     "metadata": {},
     "output_type": "execute_result"
    }
   ],
   "source": [
    "Y_pred = hypothesis(X,w)\n",
    "Y_pred"
   ]
  },
  {
   "cell_type": "code",
   "execution_count": 58,
   "metadata": {},
   "outputs": [
    {
     "data": {
      "text/plain": [
       "[<matplotlib.lines.Line2D at 0x2605670dd88>]"
      ]
     },
     "execution_count": 58,
     "metadata": {},
     "output_type": "execute_result"
    },
    {
     "data": {
      "image/png": "[encoded data removed]",
      "text/plain": [
       "<Figure size 432x288 with 1 Axes>"
      ]
     },
     "metadata": {
      "needs_background": "light"
     },
     "output_type": "display_data"
    }
   ],
   "source": [
    "plt.figure()\n",
    "plt.scatter(X,y, color = 'blue')\n",
    "plt.plot( X, Y_pred, color = 'green')"
   ]
  },
  {
   "cell_type": "code",
   "execution_count": 59,
   "metadata": {},
   "outputs": [
    {
     "data": {
      "text/plain": [
       "['24259.59',\n",
       " ' + -24223.44$x^1$',\n",
       " ' + -30930.18$x^2$',\n",
       " ' + 4216.04$x^3$',\n",
       " ' + 3189.72$x^4$']"
      ]
     },
     "execution_count": 59,
     "metadata": {},
     "output_type": "execute_result"
    }
   ],
   "source": [
    "line = w[0]\n",
    "label_holder = []\n",
    "label_holder.append('%.*f' % (2, w[0]))\n",
    "for i in np.arange(1,len(w)):\n",
    "    line += w[i] * X ** i\n",
    "    label_holder.append(' + ' +'%.*f' % (2, w[i]) + r'$x^' + str(i) + '$')\n",
    "label_holder"
   ]
  },
  {
   "cell_type": "code",
   "execution_count": 60,
   "metadata": {},
   "outputs": [
    {
     "data": {
      "text/plain": [
       "Text(0, 0.5, 'y')"
      ]
     },
     "execution_count": 60,
     "metadata": {},
     "output_type": "execute_result"
    },
    {
     "data": {
      "image/png": "[encoded data removed]",
      "text/plain": [
       "<Figure size 432x288 with 1 Axes>"
      ]
     },
     "metadata": {
      "needs_background": "light"
     },
     "output_type": "display_data"
    }
   ],
   "source": [
    "plt.plot(X, line, label = ''.join(label_holder))\n",
    "plt.xlabel('X')\n",
    "plt.ylabel('y')"
   ]
  },
  {
   "cell_type": "code",
   "execution_count": 62,
   "metadata": {},
   "outputs": [
    {
     "data": {
      "text/plain": [
       "[<matplotlib.lines.Line2D at 0x26057c88108>]"
      ]
     },
     "execution_count": 62,
     "metadata": {},
     "output_type": "execute_result"
    },
    {
     "data": {
      "image/png": "[encoded data removed]",
      "text/plain": [
       "<Figure size 432x288 with 1 Axes>"
      ]
     },
     "metadata": {
      "needs_background": "light"
     },
     "output_type": "display_data"
    }
   ],
   "source": [
    "plt.figure()\n",
    "plt.plot(np.arange(1,numIter+1), errors)\n"
   ]
  },
  {
   "cell_type": "code",
   "execution_count": null,
   "metadata": {},
   "outputs": [],
   "source": []
  }
 ],
 "metadata": {
  "kernelspec": {
   "display_name": "Python 3.7 (tensorflow)",
   "language": "python",
   "name": "tensorflow"
  },
  "language_info": {
   "codemirror_mode": {
    "name": "ipython",
    "version": 3
   },
   "file_extension": ".py",
   "mimetype": "text/x-python",
   "name": "python",
   "nbconvert_exporter": "python",
   "pygments_lexer": "ipython3",
   "version": "3.7.9"
  }
 },
 "nbformat": 4,
 "nbformat_minor": 4
}
